{
 "cells": [
  {
   "cell_type": "code",
   "execution_count": 6,
   "metadata": {},
   "outputs": [],
   "source": [
    "from datetime import datetime\n",
    "from pys import time_recorder\n",
    "from datetime import timedelta"
   ]
  },
  {
   "cell_type": "code",
   "execution_count": 3,
   "metadata": {},
   "outputs": [
    {
     "data": {
      "text/plain": [
       "datetime.datetime(2021, 11, 28, 3, 23, 56, 90419)"
      ]
     },
     "execution_count": 3,
     "metadata": {},
     "output_type": "execute_result"
    }
   ],
   "source": [
    "datetime.now()"
   ]
  },
  {
   "cell_type": "code",
   "execution_count": 13,
   "metadata": {},
   "outputs": [
    {
     "name": "stdout",
     "output_type": "stream",
     "text": [
      "{'2021/11/28': '0h0m0s', '2021/11/27': '14h6m11s', '2021/11/26': '0h0m12s', '2021/11/25': '0h1m30s', '2021/11/24': '1h29m5s', '2021/11/23': '0h0m0s', '2021/11/22': '0h0m0s'}\n"
     ]
    }
   ],
   "source": [
    "dic = {}\n",
    "p_time = datetime.now()\n",
    "for i in range(7):\n",
    "    total = 0\n",
    "    pr_time = p_time - timedelta(days=i)\n",
    "    with open('time_record.csv', 'r', encoding='utf-8') as f:\n",
    "        for row in f:\n",
    "            columns = row.split(',')\n",
    "            date = columns[0]\n",
    "            t = int(columns[2])\n",
    "            datetime_date = datetime.strptime(date, '%Y/%m/%d')\n",
    "            if datetime_date.day == pr_time.day:\n",
    "                total += t\n",
    "    result = time_recorder.dmod(total)\n",
    "    if f'{pr_time:%Y/%m/%d}' not in dic.keys():\n",
    "        dic[f'{pr_time:%Y/%m/%d}'] = result\n",
    "print(dic)\n"
   ]
  },
  {
   "cell_type": "code",
   "execution_count": 15,
   "metadata": {},
   "outputs": [
    {
     "name": "stdout",
     "output_type": "stream",
     "text": [
      "2021/11/28 0h0m0s\n",
      "2021/11/27 14h6m11s\n",
      "2021/11/26 0h0m12s\n",
      "2021/11/25 0h1m30s\n",
      "2021/11/24 1h29m5s\n",
      "2021/11/23 0h0m0s\n",
      "2021/11/22 0h0m0s\n"
     ]
    }
   ],
   "source": [
    "for a, b in dic.items():\n",
    "    print(a, b)"
   ]
  },
  {
   "cell_type": "code",
   "execution_count": 17,
   "metadata": {},
   "outputs": [
    {
     "name": "stdout",
     "output_type": "stream",
     "text": [
      "6\n"
     ]
    }
   ],
   "source": [
    "import os\n",
    "dirs = os.listdir('data/')\n",
    "dirs\n",
    "print(len(dirs))\n"
   ]
  },
  {
   "cell_type": "code",
   "execution_count": null,
   "metadata": {},
   "outputs": [],
   "source": [
    "total = 0\n",
    "present_time = datetime.now()\n",
    "\n",
    "\n",
    "path = f'./data/{present_time.year}/'\n",
    "with open(f'{path}time_record.csv', 'r', encoding='utf-8') as f:\n",
    "    for row in f:\n",
    "        columns = row.split(',')\n",
    "        date = columns[0]\n",
    "        seconds = int(columns[2])\n",
    "        datetime_date = datetime.strptime(date, '%Y/%m/%d')\n",
    "        if datetime_date.year == present_time.year:\n",
    "            total += seconds"
   ]
  },
  {
   "cell_type": "code",
   "execution_count": 25,
   "metadata": {},
   "outputs": [
    {
     "name": "stdout",
     "output_type": "stream",
     "text": [
      "2022: 9h50m47s\n",
      "2025: 19h41m34s\n",
      "2024: 29h32m21s\n",
      "2023: 39h23m8s\n",
      "2021: 63h20m6s\n",
      "63h20m6s\n"
     ]
    }
   ],
   "source": [
    "total = 0\n",
    "for year in os.listdir('data/'):\n",
    "    if year == '.DS_Store':\n",
    "        continue\n",
    "    else:\n",
    "        with open(f'data/{year}/time_record.csv', 'r', encoding='utf-8') as f:\n",
    "            for row in f:\n",
    "                columns = row.split(',')\n",
    "                seconds = int(columns[2])\n",
    "                total += seconds\n",
    "total = time_recorder.dmod(total)"
   ]
  },
  {
   "cell_type": "code",
   "execution_count": 26,
   "metadata": {},
   "outputs": [
    {
     "data": {
      "text/plain": [
       "'39h23m8s'"
      ]
     },
     "execution_count": 26,
     "metadata": {},
     "output_type": "execute_result"
    }
   ],
   "source": [
    "time_recorder.dmod(141788)"
   ]
  }
 ],
 "metadata": {
  "interpreter": {
   "hash": "aee8b7b246df8f9039afb4144a1f6fd8d2ca17a180786b69acc140d282b71a49"
  },
  "kernelspec": {
   "display_name": "Python 3.9.4 64-bit",
   "language": "python",
   "name": "python3"
  },
  "language_info": {
   "codemirror_mode": {
    "name": "ipython",
    "version": 3
   },
   "file_extension": ".py",
   "mimetype": "text/x-python",
   "name": "python",
   "nbconvert_exporter": "python",
   "pygments_lexer": "ipython3",
   "version": "3.9.4"
  },
  "orig_nbformat": 4
 },
 "nbformat": 4,
 "nbformat_minor": 2
}
